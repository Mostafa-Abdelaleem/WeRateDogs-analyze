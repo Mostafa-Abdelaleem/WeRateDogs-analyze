{
 "cells": [
  {
   "cell_type": "markdown",
   "metadata": {},
   "source": [
    "# Wrangling report"
   ]
  },
  {
   "cell_type": "markdown",
   "metadata": {},
   "source": [
    "## 1- Gathering\n",
    "\n",
    "So we started with the two datasets we had image predictions.tsv and Twitter-archive-enhanced.csv. Then we also gathered some additional data which is the number of retweets and favourites using tweepy and Twitter API.\n",
    "Twitter API was used to get all the info we can get about our tweets using their ids then each tweet info. was logged as one line in the tweet_json.txt file. A new data frame was created with the number of retweets and favourites along with the tweets ids and saved as a CSV file named retweet_favorite.csv\n"
   ]
  },
  {
   "cell_type": "markdown",
   "metadata": {},
   "source": [
    "## 2- Assessing Data\n",
    "\n",
    "After having all the data we needed, we started assessing our data in order to find things that need to be fixed in our data and found several problems that need to be solved and would help generate meaningful insights and visualizations after the cleaning.\n",
    "visual assessment along with programmatic also was used to find some problems in our data and here are some findings:\n",
    "\n",
    "#### Quality \n",
    "**Twitter-archive-enhanced table** had the following problems\n",
    "* some column have too many missing values (in_reply_to_status_id, in_reply_to_user_id,retweeted_status_user_id,retweeted_status_timestamp)\n",
    "* column source has html tags included \"<a href=\" ....\n",
    "* some columns have almost the same value for all records(source)\n",
    "* some of the values of extended URL are the same URL twice separated by a ','\n",
    "* extended URL have missing values\n",
    "* column timestamp is of type string\n",
    "* columns (doggo, floofer, pupper, puppo) are of type string\n",
    "* We have 112  retweets \n",
    "**the image predictions table ** had the following problems\n",
    "* the table has 66 duplicated values for image URL\n",
    "\n",
    "#### Tidiness\n",
    "* the dog stage is 4 columns instead of one\n",
    "* our data is split to three tables\n",
    "\n"
   ]
  },
  {
   "cell_type": "markdown",
   "metadata": {},
   "source": [
    "## 3- Cleaning \n",
    "\n",
    "In this step, we tried to found a solution for every problem we observed in the assessment step and we followed the three steps of cleaning(Define, Code, Test).\n",
    "\n",
    "And here are some of the solutions we found and applied for our dataset:\n",
    "#### Define\n",
    "\n",
    "**Twitter-archive-enhanced table** had the following problems\n",
    "* remove records of retweets\n",
    "* drop all these columns as they are not very significant for our analysis just make sure to detect retweets before deleting them\n",
    "* remove anchor tag from URLs in source column\n",
    "* we can drop the column or leave it as is, let's leave it as is\n",
    "* fix the extended URL's values and choose only one\n",
    "* we won't be using the extended URLs in our analysis so we can ignore the missing values\n",
    "* fix the type of timestamp\n",
    "* replace the four columns with only one categorical variable\n",
    "* merge all tables into one using the id as a key to merge on"
   ]
  },
  {
   "cell_type": "code",
   "execution_count": 5,
   "metadata": {},
   "outputs": [
    {
     "data": {
      "text/plain": [
       "0"
      ]
     },
     "execution_count": 5,
     "metadata": {},
     "output_type": "execute_result"
    }
   ],
   "source": [
    "from subprocess import call\n",
    "call(['python', '-m', 'nbconvert', 'wrangle_report.ipynb'])"
   ]
  },
  {
   "cell_type": "code",
   "execution_count": null,
   "metadata": {},
   "outputs": [],
   "source": []
  }
 ],
 "metadata": {
  "kernelspec": {
   "display_name": "Python 3",
   "language": "python",
   "name": "python3"
  },
  "language_info": {
   "codemirror_mode": {
    "name": "ipython",
    "version": 3
   },
   "file_extension": ".py",
   "mimetype": "text/x-python",
   "name": "python",
   "nbconvert_exporter": "python",
   "pygments_lexer": "ipython3",
   "version": "3.6.3"
  }
 },
 "nbformat": 4,
 "nbformat_minor": 2
}
